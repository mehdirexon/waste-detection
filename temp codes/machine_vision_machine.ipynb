{
 "cells": [
  {
   "cell_type": "markdown",
   "metadata": {},
   "source": [
    "#### Importing need library"
   ]
  },
  {
   "cell_type": "code",
   "metadata": {},
   "source": [
    "import cv2\n",
    "from ultralytics import YOLO\n",
    "import torch"
   ],
   "outputs": [],
   "execution_count": null
  },
  {
   "cell_type": "markdown",
   "metadata": {},
   "source": [
    "#### Training"
   ]
  },
  {
   "cell_type": "code",
   "metadata": {},
   "source": [
    "device = torch.device(\"cuda\" if torch.cuda.is_available() else \"cpu\")\n",
    "torch.cuda.set_device(0)\n",
    "torch.cuda.memory_summary(device=device, abbreviated=False)\n",
    "torch.backends.cudnn.enabled = False\n",
    "\n",
    "model = YOLO('/home/mehdirexon/Desktop/vsc/machineVision/yolov8n.pt', task='detect')\n",
    "\n",
    "model.to(device=device)\n",
    "\n",
    "#Training.\n",
    "results = model.train(\n",
    "    data='config.yaml',\n",
    "    imgsz=640,\n",
    "    epochs=70,\n",
    "    conf=0.25,\n",
    "    iou=0.45,\n",
    "    max_det=500,\n",
    "    augment=True,\n",
    "    batch=16,\n",
    "    name='yolo-waste-final',\n",
    "    cache=True,\n",
    "    amp=False,\n",
    ")"
   ],
   "outputs": [],
   "execution_count": null
  },
  {
   "cell_type": "markdown",
   "metadata": {},
   "source": [
    "#### Evalutating model"
   ]
  },
  {
   "cell_type": "code",
   "metadata": {},
   "source": [
    "model = YOLO('/home/mehdirexon/Desktop/vsc/machineVision/runs/detect/yolo-waste-final2/weights/best.pt')\n",
    "\n",
    "metrics = model.val(data='/home/mehdirexon/Desktop/vsc/machineVision/config.yaml')"
   ],
   "outputs": [],
   "execution_count": null
  },
  {
   "cell_type": "code",
   "metadata": {},
   "source": [
    "metrics.results_dict"
   ],
   "outputs": [],
   "execution_count": null
  },
  {
   "cell_type": "markdown",
   "metadata": {},
   "source": [
    "#### Prediction single image(Laboratory)"
   ]
  },
  {
   "cell_type": "code",
   "metadata": {},
   "source": [
    "image = 'photo_2_2024-05-23_22-45-25.jpg'\n",
    "\n",
    "results = model(image)[0]\n",
    "results.show()"
   ],
   "outputs": [],
   "execution_count": null
  },
  {
   "cell_type": "markdown",
   "metadata": {},
   "source": [
    "#### Loading a video and processing it"
   ]
  },
  {
   "cell_type": "code",
   "metadata": {},
   "source": [
    "# Load video\n",
    "video_path = \"/home/mehdirexon/Desktop/vsc/machineVision/video.mp4\"\n",
    "cap = cv2.VideoCapture(video_path)\n",
    "cv2.namedWindow('frame', cv2.WINDOW_NORMAL)  # WINDOW_NORMAL allows window resizing\n",
    "\n",
    "# Initialize variables for frame extraction\n",
    "\n",
    "ret = True\n",
    "while ret:\n",
    "    ret, frame = cap.read()\n",
    "    \n",
    "    results = model.track(frame,persist=True)\n",
    "\n",
    "\n",
    "    _frame = results[0].plot()\n",
    "\n",
    "    cv2.imshow('frame',_frame)\n",
    "\n",
    "    if cv2.waitKey(25) & 0xFF == ord('q'):\n",
    "        break\n",
    "\n",
    "cv2.destroyAllWindows()"
   ],
   "outputs": [],
   "execution_count": null
  }
 ],
 "metadata": {
  "kernelspec": {
   "display_name": "pytorch",
   "language": "python",
   "name": "python3"
  },
  "language_info": {
   "codemirror_mode": {
    "name": "ipython",
    "version": 3
   },
   "file_extension": ".py",
   "mimetype": "text/x-python",
   "name": "python",
   "nbconvert_exporter": "python",
   "pygments_lexer": "ipython3",
   "version": "3.11.0rc1"
  }
 },
 "nbformat": 4,
 "nbformat_minor": 2
}
