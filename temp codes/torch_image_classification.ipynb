{
 "cells": [
  {
   "metadata": {},
   "cell_type": "markdown",
   "source": "## Loading libraries",
   "id": "a9b6750dba1a7dd7"
  },
  {
   "metadata": {},
   "cell_type": "code",
   "source": [
    "import torch\n",
    "import torchvision.transforms as transforms\n",
    "from PIL import Image"
   ],
   "id": "93e3706f4b5abe9f",
   "outputs": [],
   "execution_count": null
  },
  {
   "metadata": {},
   "cell_type": "markdown",
   "source": "## Loading model",
   "id": "e5a93714551a1e01"
  },
  {
   "metadata": {},
   "cell_type": "code",
   "source": [
    "# Define transformations\n",
    "transform = transforms.Compose([\n",
    "    transforms.Resize(256),\n",
    "    transforms.CenterCrop(224),\n",
    "    transforms.ToTensor(),\n",
    "    transforms.Normalize(mean=[0.485, 0.456, 0.406], std=[0.229, 0.224, 0.225]),\n",
    "])\n",
    "\n",
    "model = torch.load(\"/Users/mehdirexon/PycharmProjects/Kharazmi/models/image classification/plastic_model.pth\")\n",
    "model.eval()"
   ],
   "id": "883101cfcf2a5e32",
   "outputs": [],
   "execution_count": null
  },
  {
   "metadata": {},
   "cell_type": "markdown",
   "source": "",
   "id": "5ef177967f3423b4"
  },
  {
   "metadata": {},
   "cell_type": "markdown",
   "source": "## Predicting",
   "id": "a2307b3b162fe576"
  },
  {
   "metadata": {},
   "cell_type": "code",
   "source": [
    "img = Image.open('/Users/mehdirexon/PycharmProjects/Kharazmi/models/image classification/images/PETE/15.jpg')  # Load your image\n",
    "img = transform(img)\n",
    "img = img.unsqueeze(0)  # Add a batch dimension"
   ],
   "id": "71be179193e6092a",
   "outputs": [],
   "execution_count": null
  },
  {
   "metadata": {},
   "cell_type": "code",
   "source": [
    "# Make predictions\n",
    "with torch.no_grad():\n",
    "    outputs = model(img)\n",
    "    _, predicted = torch.max(outputs, 1)\n",
    "    probabilities = torch.softmax(outputs, dim=1)"
   ],
   "id": "ecf089352c453593",
   "outputs": [],
   "execution_count": null
  },
  {
   "metadata": {},
   "cell_type": "markdown",
   "source": "## Output",
   "id": "85443208aea3000b"
  },
  {
   "metadata": {},
   "cell_type": "code",
   "source": [
    "predicted_class = predicted.item()\n",
    "class_probabilities = probabilities[0].tolist()\n",
    "\n",
    "print(f\" predicted class : {predicted_class} with probability {class_probabilities}\")"
   ],
   "id": "9ab518b8f31e7259",
   "outputs": [],
   "execution_count": null
  }
 ],
 "metadata": {
  "kernelspec": {
   "display_name": "Python 3",
   "language": "python",
   "name": "python3"
  },
  "language_info": {
   "codemirror_mode": {
    "name": "ipython",
    "version": 2
   },
   "file_extension": ".py",
   "mimetype": "text/x-python",
   "name": "python",
   "nbconvert_exporter": "python",
   "pygments_lexer": "ipython2",
   "version": "2.7.6"
  }
 },
 "nbformat": 4,
 "nbformat_minor": 5
}
